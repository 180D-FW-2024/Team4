{
 "cells": [
  {
   "cell_type": "code",
   "execution_count": 17,
   "metadata": {},
   "outputs": [
    {
     "name": "stdout",
     "output_type": "stream",
     "text": [
      "Requirement already satisfied: ipywidgets in /Users/wesleygwn/.pyenv/versions/3.11.2/lib/python3.11/site-packages (8.1.5)\n",
      "Requirement already satisfied: comm>=0.1.3 in /Users/wesleygwn/.pyenv/versions/3.11.2/lib/python3.11/site-packages (from ipywidgets) (0.2.2)\n",
      "Requirement already satisfied: ipython>=6.1.0 in /Users/wesleygwn/.pyenv/versions/3.11.2/lib/python3.11/site-packages (from ipywidgets) (8.26.0)\n",
      "Requirement already satisfied: traitlets>=4.3.1 in /Users/wesleygwn/.pyenv/versions/3.11.2/lib/python3.11/site-packages (from ipywidgets) (5.14.3)\n",
      "Requirement already satisfied: widgetsnbextension~=4.0.12 in /Users/wesleygwn/.pyenv/versions/3.11.2/lib/python3.11/site-packages (from ipywidgets) (4.0.13)\n",
      "Requirement already satisfied: jupyterlab-widgets~=3.0.12 in /Users/wesleygwn/.pyenv/versions/3.11.2/lib/python3.11/site-packages (from ipywidgets) (3.0.13)\n",
      "Requirement already satisfied: decorator in /Users/wesleygwn/.pyenv/versions/3.11.2/lib/python3.11/site-packages (from ipython>=6.1.0->ipywidgets) (5.1.1)\n",
      "Requirement already satisfied: jedi>=0.16 in /Users/wesleygwn/.pyenv/versions/3.11.2/lib/python3.11/site-packages (from ipython>=6.1.0->ipywidgets) (0.19.1)\n",
      "Requirement already satisfied: matplotlib-inline in /Users/wesleygwn/.pyenv/versions/3.11.2/lib/python3.11/site-packages (from ipython>=6.1.0->ipywidgets) (0.1.7)\n",
      "Requirement already satisfied: prompt-toolkit<3.1.0,>=3.0.41 in /Users/wesleygwn/.pyenv/versions/3.11.2/lib/python3.11/site-packages (from ipython>=6.1.0->ipywidgets) (3.0.47)\n",
      "Requirement already satisfied: pygments>=2.4.0 in /Users/wesleygwn/.pyenv/versions/3.11.2/lib/python3.11/site-packages (from ipython>=6.1.0->ipywidgets) (2.18.0)\n",
      "Requirement already satisfied: stack-data in /Users/wesleygwn/.pyenv/versions/3.11.2/lib/python3.11/site-packages (from ipython>=6.1.0->ipywidgets) (0.6.3)\n",
      "Requirement already satisfied: typing-extensions>=4.6 in /Users/wesleygwn/.pyenv/versions/3.11.2/lib/python3.11/site-packages (from ipython>=6.1.0->ipywidgets) (4.11.0)\n",
      "Requirement already satisfied: pexpect>4.3 in /Users/wesleygwn/.pyenv/versions/3.11.2/lib/python3.11/site-packages (from ipython>=6.1.0->ipywidgets) (4.9.0)\n",
      "Requirement already satisfied: parso<0.9.0,>=0.8.3 in /Users/wesleygwn/.pyenv/versions/3.11.2/lib/python3.11/site-packages (from jedi>=0.16->ipython>=6.1.0->ipywidgets) (0.8.4)\n",
      "Requirement already satisfied: ptyprocess>=0.5 in /Users/wesleygwn/.pyenv/versions/3.11.2/lib/python3.11/site-packages (from pexpect>4.3->ipython>=6.1.0->ipywidgets) (0.7.0)\n",
      "Requirement already satisfied: wcwidth in /Users/wesleygwn/.pyenv/versions/3.11.2/lib/python3.11/site-packages (from prompt-toolkit<3.1.0,>=3.0.41->ipython>=6.1.0->ipywidgets) (0.2.13)\n",
      "Requirement already satisfied: executing>=1.2.0 in /Users/wesleygwn/.pyenv/versions/3.11.2/lib/python3.11/site-packages (from stack-data->ipython>=6.1.0->ipywidgets) (2.0.1)\n",
      "Requirement already satisfied: asttokens>=2.1.0 in /Users/wesleygwn/.pyenv/versions/3.11.2/lib/python3.11/site-packages (from stack-data->ipython>=6.1.0->ipywidgets) (2.4.1)\n",
      "Requirement already satisfied: pure-eval in /Users/wesleygwn/.pyenv/versions/3.11.2/lib/python3.11/site-packages (from stack-data->ipython>=6.1.0->ipywidgets) (0.2.3)\n",
      "Requirement already satisfied: six>=1.12.0 in /Users/wesleygwn/.pyenv/versions/3.11.2/lib/python3.11/site-packages (from asttokens>=2.1.0->stack-data->ipython>=6.1.0->ipywidgets) (1.16.0)\n",
      "\n",
      "\u001b[1m[\u001b[0m\u001b[34;49mnotice\u001b[0m\u001b[1;39;49m]\u001b[0m\u001b[39;49m A new release of pip available: \u001b[0m\u001b[31;49m22.3.1\u001b[0m\u001b[39;49m -> \u001b[0m\u001b[32;49m24.2\u001b[0m\n",
      "\u001b[1m[\u001b[0m\u001b[34;49mnotice\u001b[0m\u001b[1;39;49m]\u001b[0m\u001b[39;49m To update, run: \u001b[0m\u001b[32;49mpip install --upgrade pip\u001b[0m\n"
     ]
    }
   ],
   "source": [
    "!pip3 install ipywidgets"
   ]
  },
  {
   "cell_type": "code",
   "execution_count": 18,
   "metadata": {},
   "outputs": [],
   "source": [
    "import os\n",
    "import cv2\n",
    "import matplotlib.pyplot as plt\n",
    "from PIL import Image\n",
    "from phycv.vlight import VLight\n",
    "import ipywidgets as widgets\n",
    "from IPython.display import display"
   ]
  },
  {
   "cell_type": "code",
   "execution_count": 19,
   "metadata": {},
   "outputs": [],
   "source": [
    "# Function to run VLight and display images\n",
    "def run_vlight(v):\n",
    "    # File paths\n",
    "    img_file = \"./assets/input_images/street_scene.png\"\n",
    "    output_path = \"./output/\"\n",
    "    \n",
    "    # Ensure the output directory exists\n",
    "    if not os.path.exists(output_path):\n",
    "        os.makedirs(output_path)\n",
    "\n",
    "    # Load the original image in BGR format\n",
    "    original_image = cv2.imread(img_file)\n",
    "\n",
    "    # Run VLight CPU version (expects and outputs BGR)\n",
    "    vlight_cpu = VLight()\n",
    "    vlight_output_cpu = vlight_cpu.run(img_file=img_file, v=v, color=False, lut=True)\n",
    "\n",
    "    # Create a figure to display the results\n",
    "    f, axes = plt.subplots(1, 2, figsize=(12, 8))\n",
    "\n",
    "    # Display the original BGR image (converted to RGB for visualization)\n",
    "    axes[0].imshow(cv2.cvtColor(original_image, cv2.COLOR_BGR2RGB))\n",
    "    axes[0].axis(\"off\")\n",
    "    axes[0].set_title(\"Original Image\")\n",
    "\n",
    "    # Display VLight output (converted to RGB for visualization)\n",
    "    axes[1].imshow(cv2.cvtColor(vlight_output_cpu, cv2.COLOR_BGR2RGB))\n",
    "    axes[1].axis(\"off\")\n",
    "    axes[1].set_title(f\"VLight Low-Light Enhancement (v={v})\")\n",
    "\n",
    "    # Show the plot\n",
    "    plt.show()\n",
    "\n",
    "    # Save the VLight output image\n",
    "    output_img_path = os.path.join(output_path, \"VLight_CPU_output.jpg\")\n",
    "    vlight_cpu_result = Image.fromarray(cv2.cvtColor(vlight_output_cpu, cv2.COLOR_BGR2RGB))\n",
    "    vlight_cpu_result.save(output_img_path)\n",
    "    print(f\"VLight output image saved to: {output_img_path}\")\n"
   ]
  },
  {
   "cell_type": "code",
   "execution_count": 20,
   "metadata": {},
   "outputs": [],
   "source": [
    "# Create a slider to adjust the 'v' value\n",
    "v_slider = widgets.FloatSlider(\n",
    "    value=0.75,  # Default value\n",
    "    min=0.0,     # Minimum value of v\n",
    "    max=0.99,     # Maximum value of v\n",
    "    step=0.01,   # Step size\n",
    "    description=\"v value:\",\n",
    "    continuous_update=False  # To avoid too many updates while dragging the slider\n",
    ")"
   ]
  },
  {
   "cell_type": "code",
   "execution_count": 21,
   "metadata": {},
   "outputs": [
    {
     "data": {
      "application/vnd.jupyter.widget-view+json": {
       "model_id": "829c4a0343c5462bb3237907650c2509",
       "version_major": 2,
       "version_minor": 0
      },
      "text/plain": [
       "interactive(children=(FloatSlider(value=0.75, continuous_update=False, description='v value:', max=0.99, step=…"
      ]
     },
     "metadata": {},
     "output_type": "display_data"
    },
    {
     "data": {
      "text/plain": [
       "<function __main__.run_vlight(v)>"
      ]
     },
     "execution_count": 21,
     "metadata": {},
     "output_type": "execute_result"
    }
   ],
   "source": [
    "# Use ipywidgets to create interactive output\n",
    "widgets.interact(run_vlight, v=v_slider)"
   ]
  }
 ],
 "metadata": {
  "kernelspec": {
   "display_name": "Python 3.11.2 64-bit ('3.11.2')",
   "language": "python",
   "name": "python3"
  },
  "language_info": {
   "codemirror_mode": {
    "name": "ipython",
    "version": 3
   },
   "file_extension": ".py",
   "mimetype": "text/x-python",
   "name": "python",
   "nbconvert_exporter": "python",
   "pygments_lexer": "ipython3",
   "version": "3.11.2"
  },
  "orig_nbformat": 4,
  "vscode": {
   "interpreter": {
    "hash": "c3708f4105a1f58bff31ab682594ea84dd6f9a829f42b21ffc6c1b0a6148fe2c"
   }
  }
 },
 "nbformat": 4,
 "nbformat_minor": 2
}
